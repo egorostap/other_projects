{
  "nbformat": 4,
  "nbformat_minor": 0,
  "metadata": {
    "colab": {
      "name": "fb_data",
      "provenance": [],
      "collapsed_sections": [],
      "authorship_tag": "ABX9TyOsriqOHJSH0Wl6ZE2LKclA",
      "include_colab_link": true
    },
    "kernelspec": {
      "name": "python3",
      "display_name": "Python 3"
    },
    "language_info": {
      "name": "python"
    }
  },
  "cells": [
    {
      "cell_type": "markdown",
      "metadata": {
        "id": "view-in-github",
        "colab_type": "text"
      },
      "source": [
        "<a href=\"https://colab.research.google.com/github/egorostap/other_projects/blob/main/fb_data.ipynb\" target=\"_parent\"><img src=\"https://colab.research.google.com/assets/colab-badge.svg\" alt=\"Open In Colab\"/></a>"
      ]
    },
    {
      "cell_type": "code",
      "metadata": {
        "colab": {
          "base_uri": "https://localhost:8080/"
        },
        "id": "hcTUvNSHnvsj",
        "outputId": "3dead885-75ab-41ef-ae73-b1efa45c9f40"
      },
      "source": [
        "!pip install facebookads==2.5.0\n",
        "from facebookads.api import FacebookAdsApi\n",
        "!pip install facebook_business\n",
        "from facebook_business.adobjects.adaccount import AdAccount\n",
        "from facebook_business.adobjects.adreportrun import AdReportRun\n",
        "from facebook_business.adobjects.adsinsights import AdsInsights\n",
        "from facebook_business.adobjects.campaign import Campaign\n",
        "from facebook_business.adobjects.adset import AdSet\n",
        "from facebook_business.adobjects.adaccountuser import AdAccountUser as AdUser\n",
        "from facebook_business import adobjects\n",
        "from matplotlib import pyplot as plt\n",
        "import time\n",
        "from facebook_business.api import FacebookAdsApi\n",
        "from pandas import DataFrame"
      ],
      "execution_count": 18,
      "outputs": [
        {
          "output_type": "stream",
          "name": "stdout",
          "text": [
            "Requirement already satisfied: facebookads==2.5.0 in /usr/local/lib/python3.7/dist-packages (2.5.0)\n",
            "Requirement already satisfied: configparser>=3.5.0b1 in /usr/local/lib/python3.7/dist-packages (from facebookads==2.5.0) (5.1.0)\n",
            "Requirement already satisfied: requests>=2.3.0 in /usr/local/lib/python3.7/dist-packages (from facebookads==2.5.0) (2.23.0)\n",
            "Requirement already satisfied: six>=1.7.3 in /usr/local/lib/python3.7/dist-packages (from facebookads==2.5.0) (1.15.0)\n",
            "Requirement already satisfied: certifi>=2017.4.17 in /usr/local/lib/python3.7/dist-packages (from requests>=2.3.0->facebookads==2.5.0) (2021.10.8)\n",
            "Requirement already satisfied: idna<3,>=2.5 in /usr/local/lib/python3.7/dist-packages (from requests>=2.3.0->facebookads==2.5.0) (2.10)\n",
            "Requirement already satisfied: urllib3!=1.25.0,!=1.25.1,<1.26,>=1.21.1 in /usr/local/lib/python3.7/dist-packages (from requests>=2.3.0->facebookads==2.5.0) (1.24.3)\n",
            "Requirement already satisfied: chardet<4,>=3.0.2 in /usr/local/lib/python3.7/dist-packages (from requests>=2.3.0->facebookads==2.5.0) (3.0.4)\n",
            "Requirement already satisfied: facebook_business in /usr/local/lib/python3.7/dist-packages (12.0.1)\n",
            "Requirement already satisfied: pycountry>=19.8.18 in /usr/local/lib/python3.7/dist-packages (from facebook_business) (20.7.3)\n",
            "Requirement already satisfied: curlify>=2.1.0 in /usr/local/lib/python3.7/dist-packages (from facebook_business) (2.2.1)\n",
            "Requirement already satisfied: six>=1.7.3 in /usr/local/lib/python3.7/dist-packages (from facebook_business) (1.15.0)\n",
            "Requirement already satisfied: aiohttp in /usr/local/lib/python3.7/dist-packages (from facebook_business) (3.8.0)\n",
            "Requirement already satisfied: requests>=2.3.0 in /usr/local/lib/python3.7/dist-packages (from facebook_business) (2.23.0)\n",
            "Requirement already satisfied: certifi>=2017.4.17 in /usr/local/lib/python3.7/dist-packages (from requests>=2.3.0->facebook_business) (2021.10.8)\n",
            "Requirement already satisfied: idna<3,>=2.5 in /usr/local/lib/python3.7/dist-packages (from requests>=2.3.0->facebook_business) (2.10)\n",
            "Requirement already satisfied: urllib3!=1.25.0,!=1.25.1,<1.26,>=1.21.1 in /usr/local/lib/python3.7/dist-packages (from requests>=2.3.0->facebook_business) (1.24.3)\n",
            "Requirement already satisfied: chardet<4,>=3.0.2 in /usr/local/lib/python3.7/dist-packages (from requests>=2.3.0->facebook_business) (3.0.4)\n",
            "Requirement already satisfied: frozenlist>=1.1.1 in /usr/local/lib/python3.7/dist-packages (from aiohttp->facebook_business) (1.2.0)\n",
            "Requirement already satisfied: attrs>=17.3.0 in /usr/local/lib/python3.7/dist-packages (from aiohttp->facebook_business) (21.2.0)\n",
            "Requirement already satisfied: charset-normalizer<3.0,>=2.0 in /usr/local/lib/python3.7/dist-packages (from aiohttp->facebook_business) (2.0.7)\n",
            "Requirement already satisfied: asynctest==0.13.0 in /usr/local/lib/python3.7/dist-packages (from aiohttp->facebook_business) (0.13.0)\n",
            "Requirement already satisfied: async-timeout<5.0,>=4.0.0a3 in /usr/local/lib/python3.7/dist-packages (from aiohttp->facebook_business) (4.0.0)\n",
            "Requirement already satisfied: aiosignal>=1.1.2 in /usr/local/lib/python3.7/dist-packages (from aiohttp->facebook_business) (1.2.0)\n",
            "Requirement already satisfied: typing-extensions>=3.7.4 in /usr/local/lib/python3.7/dist-packages (from aiohttp->facebook_business) (3.10.0.2)\n",
            "Requirement already satisfied: yarl<2.0,>=1.0 in /usr/local/lib/python3.7/dist-packages (from aiohttp->facebook_business) (1.7.2)\n",
            "Requirement already satisfied: multidict<7.0,>=4.5 in /usr/local/lib/python3.7/dist-packages (from aiohttp->facebook_business) (5.2.0)\n"
          ]
        }
      ]
    },
    {
      "cell_type": "markdown",
      "metadata": {
        "id": "xVGMVxsxmUMQ"
      },
      "source": [
        "Написание скрипта\n",
        "Создадим три переменных, в которые запишем access token, App ID и App Secret. Авторизуемся через метод init() класса FacebooksAdsApi и добавляем пользователя. Метод get_ad_accounts() вернёт нам данные по всем нашим рекламным аккаунтам в виде словаря. По этим же данным можем получить информацию о кампаниях методом get_campaigns()."
      ]
    },
    {
      "cell_type": "code",
      "metadata": {
        "id": "lq46pXkSj1So"
      },
      "source": [
        "my_access_token = 'EAAwDjsTCk8kBALCiX8raWRmLQeezOwkLIWNZAFGTHAgZCqdWsKkNZCGiDouJhODJ5m25PI79z65uvL6wVPRX4rhFtQ0RIS7gY0ZCh693DJQh6SSpa7d7XCtfZAn9rd6ZB4RW4AsRCk1non2gsS20gzQYGDDaHG4AUbs6s3qCxt2T6RgJZAnUqURDuDN376uHJIW50zZCR6pbRkh6xtiTULAJBZAvM46434z8ZD'\n",
        "my_app_id = '3381611441853385'\n",
        "my_app_secret = 'a0d38d2d8eba2fa13ff2d7246f344dd1'\n",
        "FacebookAdsApi.init(my_app_id, my_app_secret, my_access_token)\n",
        "\n",
        "# me = AdUser(fbid='me')\n",
        "# my_accounts = list(me.get_ad_accounts())\n",
        "# my_accounts\n",
        "\n",
        "my_account = AdAccount('act_426823688657953')\n",
        "my_accounts = [my_account]\n",
        "campaigns = my_account.get_campaigns()\n",
        "print(campaigns)\n",
        "\n",
        "# my_account\n",
        "# my_account = my_accounts[0]\n"
      ],
      "execution_count": null,
      "outputs": []
    },
    {
      "cell_type": "markdown",
      "metadata": {
        "id": "W6OBnsvhmPuE"
      },
      "source": [
        "Попробуем получить amount spent через my_account. Для этого воспользуемся методом api_get(), передав в параметр fields поле AdAccount.Field.amount_spent. Теперь, чтобы получить желаемые данные, выведем поле у переменной my_account, поделив на 100, чтобы обрубить копейки. Расходы получаем в валюте аккаунта, в нашем случае это RUB. То, ради чего мы всё это затеваем — получить данные о расходах на рекламные кампании для последующего анализа."
      ]
    },
    {
      "cell_type": "code",
      "metadata": {
        "id": "FrRwRc5Gk-BX",
        "colab": {
          "base_uri": "https://localhost:8080/"
        },
        "outputId": "ef31b8db-8035-441f-ef18-0d9d55796e81"
      },
      "source": [
        "my_account.api_get(fields=[AdAccount.Field.amount_spent])\n",
        "print(int(my_account[AdAccount.Field.amount_spent])/100)"
      ],
      "execution_count": 4,
      "outputs": [
        {
          "output_type": "stream",
          "name": "stdout",
          "text": [
            "435503.26\n"
          ]
        }
      ]
    },
    {
      "cell_type": "markdown",
      "metadata": {
        "id": "GzQ1VbnWmBoe"
      },
      "source": [
        "Объявим переменную fields — в этом списке будут храниться поля, которые мы хотим получать: id кампании, количество кликов, затрат и просмотров. Теперь опишем две функции. Первая будет асинхронно отправлять запросы к Facebook и возвращать результаты. Вторая — формирует эти запросы и передает в первую функцию. В результате будем получать список словарей."
      ]
    },
    {
      "cell_type": "code",
      "metadata": {
        "id": "vKvQ0Y5jlf08"
      },
      "source": [
        "fields = [\n",
        "    AdsInsights.Field.campaign_id,\n",
        "    AdsInsights.Field.campaign_name,\n",
        "    AdsInsights.Field.clicks,\n",
        "    AdsInsights.Field.spend,\n",
        "    AdsInsights.Field.impressions,\n",
        "    AdsInsights.Field.actions\n",
        "]\n",
        "\n",
        "count = 0\n",
        "\n",
        "def wait_for_async_job(async_job):\n",
        "    global count\n",
        "    async_job = async_job.api_get()\n",
        "    while async_job[AdReportRun.Field.async_status] != 'Job Completed' or async_job[\n",
        "        AdReportRun.Field.async_percent_completion] < 100:\n",
        "        time.sleep(2)\n",
        "        async_job = async_job.api_get()\n",
        "    else:\n",
        "        print(\"Job \" + str(count) + \" completed\")\n",
        "        count += 1\n",
        "    return async_job.get_result(params={\"limit\": 1000})\n",
        "\n",
        "a = [{'field':\"action_type\",'operator':\"IN\",'value':[\"lead\"]}]\n",
        "\n",
        "def get_insights(account, date_preset='last_7d'):\n",
        "    account = AdAccount(account[\"id\"])\n",
        "    i_async_job = account.get_insights(\n",
        "        params={\n",
        "            'level': 'ad',\n",
        "            'date_preset': date_preset,\n",
        "            'time_increment': 1,\n",
        "            'filtering' : a\n",
        "            },\n",
        "            fields=fields,\n",
        "            is_async=True)\n",
        "\n",
        "    results = [dict(item) for item in wait_for_async_job(i_async_job)]\n",
        "    return results\n",
        "# get_insights(my_account, date_preset='last_7d')"
      ],
      "execution_count": 15,
      "outputs": []
    },
    {
      "cell_type": "markdown",
      "metadata": {
        "id": "XMDsONPpl7TB"
      },
      "source": [
        "Следующий шаг — получение искомых данных о затратах. Будем собирать данные за всё время, поэтому заведём переменную date_preset, значение которой поставим lifetime. И для каждого аккаунта вызовем функцию get_insights(), а список, который она возвращает, положим в insights_lists.\n",
        "Создадим DataFrame и вытащим из insights_lists интересующие данные — это id кампании, количество кликов, затраты и просмотры."
      ]
    },
    {
      "cell_type": "code",
      "metadata": {
        "id": "gr17K2nmlxoC",
        "colab": {
          "base_uri": "https://localhost:8080/",
          "height": 432
        },
        "outputId": "baf0641c-7041-40b0-b613-9c0a30fa335a"
      },
      "source": [
        "\n",
        "\n",
        "elem_insights = []\n",
        "insights_lists = []\n",
        "date_preset = 'last_90d'\n",
        "for elem in my_accounts:\n",
        "            elem_insights = get_insights(elem, date_preset)\n",
        "            insights_lists.append(elem_insights)\n",
        "\n",
        "insight_campaign_id_list = []\n",
        "insight_clicks_list = []\n",
        "insight_spend_list = []\n",
        "insight_impressions_list = []\n",
        "insight_date_start_list = []\n",
        "insight_date_stop_list = []\n",
        "insight_leads_list = []\n",
        "insight_campaign_name = []\n",
        "for elem1 in insights_lists:\n",
        "    for elem2 in elem1:\n",
        "        insight_campaign_id_list.append(int(elem2['campaign_id']))\n",
        "        insight_clicks_list.append(int(elem2['clicks']))\n",
        "        insight_spend_list.append(float(elem2['spend']))\n",
        "        insight_impressions_list.append(int(elem2['impressions']))\n",
        "        insight_date_start_list.append(elem2['date_start'])\n",
        "        insight_date_stop_list.append(elem2['date_stop'])\n",
        "        insight_campaign_name.append(elem2['campaign_name'])\n",
        "        insight_leads_list.append(elem2['actions'][0]['value'] if 'actions' in elem2 else 0)\n",
        "\n",
        "        # print(elem2['actions'])\n",
        "\n",
        "\n",
        "df = DataFrame()\n",
        "\n",
        "df['campaign_name'] = insight_campaign_name\n",
        "df['campaign_id'] = insight_campaign_id_list\n",
        "df['spend'] = insight_spend_list\n",
        "df['leads'] = insight_leads_list\n",
        "df['clicks'] = insight_clicks_list\n",
        "df['impressions'] = insight_impressions_list\n",
        "df['date_start'] = insight_date_start_list\n",
        "df['date_stop'] = insight_date_stop_list\n",
        "df.groupby(['campaign_name']).sum()\n",
        "\n",
        "\n",
        "df.head(100)"
      ],
      "execution_count": 27,
      "outputs": [
        {
          "output_type": "stream",
          "name": "stdout",
          "text": [
            "Job 2 completed\n"
          ]
        },
        {
          "output_type": "execute_result",
          "data": {
            "text/html": [
              "<div>\n",
              "<style scoped>\n",
              "    .dataframe tbody tr th:only-of-type {\n",
              "        vertical-align: middle;\n",
              "    }\n",
              "\n",
              "    .dataframe tbody tr th {\n",
              "        vertical-align: top;\n",
              "    }\n",
              "\n",
              "    .dataframe thead th {\n",
              "        text-align: right;\n",
              "    }\n",
              "</style>\n",
              "<table border=\"1\" class=\"dataframe\">\n",
              "  <thead>\n",
              "    <tr style=\"text-align: right;\">\n",
              "      <th></th>\n",
              "      <th>campaign_name</th>\n",
              "      <th>campaign_id</th>\n",
              "      <th>spend</th>\n",
              "      <th>leads</th>\n",
              "      <th>clicks</th>\n",
              "      <th>impressions</th>\n",
              "      <th>date_start</th>\n",
              "      <th>date_stop</th>\n",
              "    </tr>\n",
              "  </thead>\n",
              "  <tbody>\n",
              "    <tr>\n",
              "      <th>0</th>\n",
              "      <td>skandinavia-qwz-fb-inst</td>\n",
              "      <td>23846900473100216</td>\n",
              "      <td>3.91</td>\n",
              "      <td>0</td>\n",
              "      <td>2</td>\n",
              "      <td>19</td>\n",
              "      <td>2021-08-13</td>\n",
              "      <td>2021-08-13</td>\n",
              "    </tr>\n",
              "    <tr>\n",
              "      <th>1</th>\n",
              "      <td>skandinavia-qwz-fb-inst</td>\n",
              "      <td>23846900473100216</td>\n",
              "      <td>225.77</td>\n",
              "      <td>0</td>\n",
              "      <td>63</td>\n",
              "      <td>2054</td>\n",
              "      <td>2021-08-13</td>\n",
              "      <td>2021-08-13</td>\n",
              "    </tr>\n",
              "    <tr>\n",
              "      <th>2</th>\n",
              "      <td>familypark-qwz-fb-inst</td>\n",
              "      <td>23846885675190216</td>\n",
              "      <td>384.34</td>\n",
              "      <td>1</td>\n",
              "      <td>63</td>\n",
              "      <td>3725</td>\n",
              "      <td>2021-08-13</td>\n",
              "      <td>2021-08-13</td>\n",
              "    </tr>\n",
              "    <tr>\n",
              "      <th>3</th>\n",
              "      <td>familypark-qwz-fb-inst</td>\n",
              "      <td>23846885675190216</td>\n",
              "      <td>129.56</td>\n",
              "      <td>2</td>\n",
              "      <td>30</td>\n",
              "      <td>1628</td>\n",
              "      <td>2021-08-13</td>\n",
              "      <td>2021-08-13</td>\n",
              "    </tr>\n",
              "    <tr>\n",
              "      <th>4</th>\n",
              "      <td>skandinavia-qwz-fb-inst</td>\n",
              "      <td>23846900473100216</td>\n",
              "      <td>17.08</td>\n",
              "      <td>0</td>\n",
              "      <td>3</td>\n",
              "      <td>105</td>\n",
              "      <td>2021-08-13</td>\n",
              "      <td>2021-08-13</td>\n",
              "    </tr>\n",
              "    <tr>\n",
              "      <th>...</th>\n",
              "      <td>...</td>\n",
              "      <td>...</td>\n",
              "      <td>...</td>\n",
              "      <td>...</td>\n",
              "      <td>...</td>\n",
              "      <td>...</td>\n",
              "      <td>...</td>\n",
              "      <td>...</td>\n",
              "    </tr>\n",
              "    <tr>\n",
              "      <th>95</th>\n",
              "      <td>skandinavia-qwz-fb-inst</td>\n",
              "      <td>23846900473100216</td>\n",
              "      <td>342.16</td>\n",
              "      <td>0</td>\n",
              "      <td>37</td>\n",
              "      <td>2071</td>\n",
              "      <td>2021-08-18</td>\n",
              "      <td>2021-08-18</td>\n",
              "    </tr>\n",
              "    <tr>\n",
              "      <th>96</th>\n",
              "      <td>lugovoe</td>\n",
              "      <td>23848205134100216</td>\n",
              "      <td>7.41</td>\n",
              "      <td>0</td>\n",
              "      <td>0</td>\n",
              "      <td>33</td>\n",
              "      <td>2021-08-18</td>\n",
              "      <td>2021-08-18</td>\n",
              "    </tr>\n",
              "    <tr>\n",
              "      <th>97</th>\n",
              "      <td>lugovoe</td>\n",
              "      <td>23848205134100216</td>\n",
              "      <td>321.44</td>\n",
              "      <td>0</td>\n",
              "      <td>37</td>\n",
              "      <td>1669</td>\n",
              "      <td>2021-08-18</td>\n",
              "      <td>2021-08-18</td>\n",
              "    </tr>\n",
              "    <tr>\n",
              "      <th>98</th>\n",
              "      <td>lugovoe</td>\n",
              "      <td>23848205134100216</td>\n",
              "      <td>2.05</td>\n",
              "      <td>0</td>\n",
              "      <td>0</td>\n",
              "      <td>7</td>\n",
              "      <td>2021-08-18</td>\n",
              "      <td>2021-08-18</td>\n",
              "    </tr>\n",
              "    <tr>\n",
              "      <th>99</th>\n",
              "      <td>lugovoe</td>\n",
              "      <td>23848205134100216</td>\n",
              "      <td>58.69</td>\n",
              "      <td>0</td>\n",
              "      <td>4</td>\n",
              "      <td>134</td>\n",
              "      <td>2021-08-18</td>\n",
              "      <td>2021-08-18</td>\n",
              "    </tr>\n",
              "  </tbody>\n",
              "</table>\n",
              "<p>100 rows × 8 columns</p>\n",
              "</div>"
            ],
            "text/plain": [
              "              campaign_name        campaign_id  ...  date_start   date_stop\n",
              "0   skandinavia-qwz-fb-inst  23846900473100216  ...  2021-08-13  2021-08-13\n",
              "1   skandinavia-qwz-fb-inst  23846900473100216  ...  2021-08-13  2021-08-13\n",
              "2    familypark-qwz-fb-inst  23846885675190216  ...  2021-08-13  2021-08-13\n",
              "3    familypark-qwz-fb-inst  23846885675190216  ...  2021-08-13  2021-08-13\n",
              "4   skandinavia-qwz-fb-inst  23846900473100216  ...  2021-08-13  2021-08-13\n",
              "..                      ...                ...  ...         ...         ...\n",
              "95  skandinavia-qwz-fb-inst  23846900473100216  ...  2021-08-18  2021-08-18\n",
              "96                  lugovoe  23848205134100216  ...  2021-08-18  2021-08-18\n",
              "97                  lugovoe  23848205134100216  ...  2021-08-18  2021-08-18\n",
              "98                  lugovoe  23848205134100216  ...  2021-08-18  2021-08-18\n",
              "99                  lugovoe  23848205134100216  ...  2021-08-18  2021-08-18\n",
              "\n",
              "[100 rows x 8 columns]"
            ]
          },
          "metadata": {},
          "execution_count": 27
        }
      ]
    },
    {
      "cell_type": "code",
      "metadata": {
        "colab": {
          "base_uri": "https://localhost:8080/"
        },
        "id": "IffHbq1qNXk4",
        "outputId": "afa30ef1-ed4d-4fbc-8a6e-e17f400c446b"
      },
      "source": [
        "# import pandas as pd\n",
        "!pip install gspread==3.6.0\n",
        "import gspread\n",
        "from gspread_dataframe import set_with_dataframe"
      ],
      "execution_count": 20,
      "outputs": [
        {
          "output_type": "stream",
          "name": "stdout",
          "text": [
            "Requirement already satisfied: gspread==3.6.0 in /usr/local/lib/python3.7/dist-packages (3.6.0)\n",
            "Requirement already satisfied: google-auth-oauthlib>=0.4.1 in /usr/local/lib/python3.7/dist-packages (from gspread==3.6.0) (0.4.6)\n",
            "Requirement already satisfied: requests>=2.2.1 in /usr/local/lib/python3.7/dist-packages (from gspread==3.6.0) (2.23.0)\n",
            "Requirement already satisfied: google-auth>=1.12.0 in /usr/local/lib/python3.7/dist-packages (from gspread==3.6.0) (1.35.0)\n",
            "Requirement already satisfied: setuptools>=40.3.0 in /usr/local/lib/python3.7/dist-packages (from google-auth>=1.12.0->gspread==3.6.0) (57.4.0)\n",
            "Requirement already satisfied: pyasn1-modules>=0.2.1 in /usr/local/lib/python3.7/dist-packages (from google-auth>=1.12.0->gspread==3.6.0) (0.2.8)\n",
            "Requirement already satisfied: cachetools<5.0,>=2.0.0 in /usr/local/lib/python3.7/dist-packages (from google-auth>=1.12.0->gspread==3.6.0) (4.2.4)\n",
            "Requirement already satisfied: rsa<5,>=3.1.4 in /usr/local/lib/python3.7/dist-packages (from google-auth>=1.12.0->gspread==3.6.0) (4.7.2)\n",
            "Requirement already satisfied: six>=1.9.0 in /usr/local/lib/python3.7/dist-packages (from google-auth>=1.12.0->gspread==3.6.0) (1.15.0)\n",
            "Requirement already satisfied: requests-oauthlib>=0.7.0 in /usr/local/lib/python3.7/dist-packages (from google-auth-oauthlib>=0.4.1->gspread==3.6.0) (1.3.0)\n",
            "Requirement already satisfied: pyasn1<0.5.0,>=0.4.6 in /usr/local/lib/python3.7/dist-packages (from pyasn1-modules>=0.2.1->google-auth>=1.12.0->gspread==3.6.0) (0.4.8)\n",
            "Requirement already satisfied: urllib3!=1.25.0,!=1.25.1,<1.26,>=1.21.1 in /usr/local/lib/python3.7/dist-packages (from requests>=2.2.1->gspread==3.6.0) (1.24.3)\n",
            "Requirement already satisfied: chardet<4,>=3.0.2 in /usr/local/lib/python3.7/dist-packages (from requests>=2.2.1->gspread==3.6.0) (3.0.4)\n",
            "Requirement already satisfied: certifi>=2017.4.17 in /usr/local/lib/python3.7/dist-packages (from requests>=2.2.1->gspread==3.6.0) (2021.10.8)\n",
            "Requirement already satisfied: idna<3,>=2.5 in /usr/local/lib/python3.7/dist-packages (from requests>=2.2.1->gspread==3.6.0) (2.10)\n",
            "Requirement already satisfied: oauthlib>=3.0.0 in /usr/local/lib/python3.7/dist-packages (from requests-oauthlib>=0.7.0->google-auth-oauthlib>=0.4.1->gspread==3.6.0) (3.1.1)\n"
          ]
        }
      ]
    },
    {
      "cell_type": "code",
      "metadata": {
        "id": "kzdKbCseXhtp"
      },
      "source": [
        "# ACCES GOOGLE SHEET\n",
        "sa = gspread.service_account(filename=\"/usr/local/lib/python3.7/dist-packages/gspread/service_account.json\")\n",
        "sh = sa.open_by_key('1P3vTJeEnowD_Q1z9UO32hdI-tofzVcdi6fEeAKGdUKw')\n",
        "worksheet = sh.worksheet(\"zag_dom\")\n",
        "\n",
        "# CLEAR SHEET CONTENT\n",
        "range_of_cells = worksheet.range('A2:H1000') #-> Select the range you want to clear\n",
        "for cell in range_of_cells:\n",
        "    cell.value = ''\n",
        "worksheet.update_cells(range_of_cells) \n",
        "\n",
        "# APPEND DATA TO SHEET\n",
        "set_with_dataframe(worksheet, df) #-> THIS EXPORTS YOUR DATAFRAME TO THE GOOGLE SHEET\n",
        "\n",
        "\n",
        "# sh = sa.open(\"Статистика кампании FB Егор\")\n",
        "# gc = gspread.service_account(filename='client_secret_1038106429640-f9ff5mosk926988bq7stb03sleg22863.apps.googleusercontent.com.json')\n",
        "# gc = gspread.authorze(filename='client_secret_1038106429640-f9ff5mosk926988bq7stb03sleg22863.apps.googleusercontent.com.json')\n",
        "# worksheet = sh.get_worksheet(sheet_index_no) #-> 0 - first sheet, 1 - second sheet etc. \n",
        "\n",
        "# worksheet.update('A1:B2', [[1, 2], [3, 4]])\n",
        "\n",
        "\n",
        "\n",
        "# your_dataframe = pd.df()\n",
        "\n"
      ],
      "execution_count": 28,
      "outputs": []
    },
    {
      "cell_type": "code",
      "metadata": {
        "colab": {
          "base_uri": "https://localhost:8080/"
        },
        "id": "oyzLPjLeHo-Q",
        "outputId": "c6e6ab0f-0c95-46b2-e8f1-93ef8cab275c"
      },
      "source": [
        "!python --version\n"
      ],
      "execution_count": 6,
      "outputs": [
        {
          "output_type": "stream",
          "name": "stdout",
          "text": [
            "Python 3.7.12\n"
          ]
        }
      ]
    }
  ]
}
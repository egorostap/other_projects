{
  "nbformat": 4,
  "nbformat_minor": 0,
  "metadata": {
    "colab": {
      "name": "fb_data",
      "provenance": [],
      "authorship_tag": "ABX9TyP/jsJn/pyZRueljoVw9RvZ",
      "include_colab_link": true
    },
    "kernelspec": {
      "name": "python3",
      "display_name": "Python 3"
    },
    "language_info": {
      "name": "python"
    }
  },
  "cells": [
    {
      "cell_type": "markdown",
      "metadata": {
        "id": "view-in-github",
        "colab_type": "text"
      },
      "source": [
        "<a href=\"https://colab.research.google.com/github/egorostap/other_projects/blob/main/fb_data.ipynb\" target=\"_parent\"><img src=\"https://colab.research.google.com/assets/colab-badge.svg\" alt=\"Open In Colab\"/></a>"
      ]
    },
    {
      "cell_type": "code",
      "metadata": {
        "colab": {
          "base_uri": "https://localhost:8080/"
        },
        "id": "hcTUvNSHnvsj",
        "outputId": "4149318f-6b05-4828-c4da-c2d53596ee1c"
      },
      "source": [
        "!pip install facebookads==2.5.0\n",
        "from facebookads.api import FacebookAdsApi\n",
        "!pip install facebook_business\n",
        "from facebook_business.adobjects.adaccount import AdAccount\n",
        "from facebook_business.adobjects.adreportrun import AdReportRun\n",
        "from facebook_business.adobjects.adsinsights import AdsInsights\n",
        "from facebook_business.adobjects.campaign import Campaign\n",
        "from facebook_business.adobjects.adset import AdSet\n",
        "from facebook_business.adobjects.adaccountuser import AdAccountUser as AdUser\n",
        "from facebook_business import adobjects\n",
        "from matplotlib import pyplot as plt\n",
        "from pandas import DataFrame\n",
        "import time\n",
        "from facebook_business.api import FacebookAdsApi"
      ],
      "execution_count": 20,
      "outputs": [
        {
          "output_type": "stream",
          "name": "stdout",
          "text": [
            "Requirement already satisfied: facebookads==2.5.0 in /usr/local/lib/python3.7/dist-packages (2.5.0)\n",
            "Requirement already satisfied: six>=1.7.3 in /usr/local/lib/python3.7/dist-packages (from facebookads==2.5.0) (1.15.0)\n",
            "Requirement already satisfied: requests>=2.3.0 in /usr/local/lib/python3.7/dist-packages (from facebookads==2.5.0) (2.23.0)\n",
            "Requirement already satisfied: configparser>=3.5.0b1 in /usr/local/lib/python3.7/dist-packages (from facebookads==2.5.0) (5.1.0)\n",
            "Requirement already satisfied: idna<3,>=2.5 in /usr/local/lib/python3.7/dist-packages (from requests>=2.3.0->facebookads==2.5.0) (2.10)\n",
            "Requirement already satisfied: certifi>=2017.4.17 in /usr/local/lib/python3.7/dist-packages (from requests>=2.3.0->facebookads==2.5.0) (2021.5.30)\n",
            "Requirement already satisfied: chardet<4,>=3.0.2 in /usr/local/lib/python3.7/dist-packages (from requests>=2.3.0->facebookads==2.5.0) (3.0.4)\n",
            "Requirement already satisfied: urllib3!=1.25.0,!=1.25.1,<1.26,>=1.21.1 in /usr/local/lib/python3.7/dist-packages (from requests>=2.3.0->facebookads==2.5.0) (1.24.3)\n",
            "Requirement already satisfied: facebook_business in /usr/local/lib/python3.7/dist-packages (12.0.1)\n",
            "Requirement already satisfied: curlify>=2.1.0 in /usr/local/lib/python3.7/dist-packages (from facebook_business) (2.2.1)\n",
            "Requirement already satisfied: requests>=2.3.0 in /usr/local/lib/python3.7/dist-packages (from facebook_business) (2.23.0)\n",
            "Requirement already satisfied: six>=1.7.3 in /usr/local/lib/python3.7/dist-packages (from facebook_business) (1.15.0)\n",
            "Requirement already satisfied: pycountry>=19.8.18 in /usr/local/lib/python3.7/dist-packages (from facebook_business) (20.7.3)\n",
            "Requirement already satisfied: aiohttp in /usr/local/lib/python3.7/dist-packages (from facebook_business) (3.8.0)\n",
            "Requirement already satisfied: urllib3!=1.25.0,!=1.25.1,<1.26,>=1.21.1 in /usr/local/lib/python3.7/dist-packages (from requests>=2.3.0->facebook_business) (1.24.3)\n",
            "Requirement already satisfied: certifi>=2017.4.17 in /usr/local/lib/python3.7/dist-packages (from requests>=2.3.0->facebook_business) (2021.5.30)\n",
            "Requirement already satisfied: idna<3,>=2.5 in /usr/local/lib/python3.7/dist-packages (from requests>=2.3.0->facebook_business) (2.10)\n",
            "Requirement already satisfied: chardet<4,>=3.0.2 in /usr/local/lib/python3.7/dist-packages (from requests>=2.3.0->facebook_business) (3.0.4)\n",
            "Requirement already satisfied: attrs>=17.3.0 in /usr/local/lib/python3.7/dist-packages (from aiohttp->facebook_business) (21.2.0)\n",
            "Requirement already satisfied: async-timeout<5.0,>=4.0.0a3 in /usr/local/lib/python3.7/dist-packages (from aiohttp->facebook_business) (4.0.0)\n",
            "Requirement already satisfied: asynctest==0.13.0 in /usr/local/lib/python3.7/dist-packages (from aiohttp->facebook_business) (0.13.0)\n",
            "Requirement already satisfied: frozenlist>=1.1.1 in /usr/local/lib/python3.7/dist-packages (from aiohttp->facebook_business) (1.2.0)\n",
            "Requirement already satisfied: aiosignal>=1.1.2 in /usr/local/lib/python3.7/dist-packages (from aiohttp->facebook_business) (1.2.0)\n",
            "Requirement already satisfied: typing-extensions>=3.7.4 in /usr/local/lib/python3.7/dist-packages (from aiohttp->facebook_business) (3.7.4.3)\n",
            "Requirement already satisfied: charset-normalizer<3.0,>=2.0 in /usr/local/lib/python3.7/dist-packages (from aiohttp->facebook_business) (2.0.7)\n",
            "Requirement already satisfied: multidict<7.0,>=4.5 in /usr/local/lib/python3.7/dist-packages (from aiohttp->facebook_business) (5.2.0)\n",
            "Requirement already satisfied: yarl<2.0,>=1.0 in /usr/local/lib/python3.7/dist-packages (from aiohttp->facebook_business) (1.7.2)\n"
          ]
        }
      ]
    },
    {
      "cell_type": "markdown",
      "metadata": {
        "id": "xVGMVxsxmUMQ"
      },
      "source": [
        "Написание скрипта\n",
        "Создадим три переменных, в которые запишем access token, App ID и App Secret. Авторизуемся через метод init() класса FacebooksAdsApi и добавляем пользователя. Метод get_ad_accounts() вернёт нам данные по всем нашим рекламным аккаунтам в виде словаря. По этим же данным можем получить информацию о кампаниях методом get_campaigns()."
      ]
    },
    {
      "cell_type": "code",
      "metadata": {
        "colab": {
          "base_uri": "https://localhost:8080/"
        },
        "id": "lq46pXkSj1So",
        "outputId": "3c0f6565-15f2-47b8-9d2b-fd4043898677"
      },
      "source": [
        "my_access_token = 'EAAwDjsTCk8kBAMzEHZBwKO4SYud1ZBFzZAQssDUNUOjiS2kkrZBm8pZAKJHQhqfTaunLwBdUdGEVMWFEtMcflOumCKzBnZAINUQj9Iai5LoUXlrpHSaLwojz4UVD58FNyRtkDOvXkobr8VWhd7en37Ed9ugF49LxWyi4pvcjhZC7OMZC21tYMJv9rnLuP8Ix1eEVZAzicq9dnBgZDZD'\n",
        "my_app_id = '3381611441853385'\n",
        "my_app_secret = 'a0d38d2d8eba2fa13ff2d7246f344dd1'\n",
        "FacebookAdsApi.init(my_app_id, my_app_secret, my_access_token)\n",
        "\n",
        "# me = AdUser(fbid='me')\n",
        "# my_accounts = list(me.get_ad_accounts())\n",
        "# my_accounts\n",
        "\n",
        "my_account = AdAccount('act_426823688657953')\n",
        "my_accounts = [my_account]\n",
        "campaigns = my_account.get_campaigns()\n",
        "print(campaigns)\n",
        "\n",
        "# my_account = my_accounts[0]\n",
        "\n",
        "\n",
        "# act_426823688657953/insights?fields=campaign_name,adset_name,impressions,spend,actions&date_preset=last_30d&time_increment=1&limit=2000&level=adset"
      ],
      "execution_count": 24,
      "outputs": [
        {
          "output_type": "stream",
          "name": "stdout",
          "text": [
            "[<Campaign> {\n",
            "    \"id\": \"23848462278140216\"\n",
            "}, <Campaign> {\n",
            "    \"id\": \"23848205134100216\"\n",
            "}, <Campaign> {\n",
            "    \"id\": \"23848055655140216\"\n",
            "}, <Campaign> {\n",
            "    \"id\": \"23848016151470216\"\n",
            "}, <Campaign> {\n",
            "    \"id\": \"23847758574230216\"\n",
            "}, <Campaign> {\n",
            "    \"id\": \"23847551237850216\"\n",
            "}, <Campaign> {\n",
            "    \"id\": \"23847307645240216\"\n",
            "}, <Campaign> {\n",
            "    \"id\": \"23847116394610216\"\n",
            "}, <Campaign> {\n",
            "    \"id\": \"23847091334310216\"\n",
            "}, <Campaign> {\n",
            "    \"id\": \"23846900635030216\"\n",
            "}, <Campaign> {\n",
            "    \"id\": \"23846900473100216\"\n",
            "}, <Campaign> {\n",
            "    \"id\": \"23846888038520216\"\n",
            "}, <Campaign> {\n",
            "    \"id\": \"23846885675190216\"\n",
            "}]\n"
          ]
        }
      ]
    },
    {
      "cell_type": "markdown",
      "metadata": {
        "id": "W6OBnsvhmPuE"
      },
      "source": [
        "Попробуем получить amount spent через my_account. Для этого воспользуемся методом api_get(), передав в параметр fields поле AdAccount.Field.amount_spent. Теперь, чтобы получить желаемые данные, выведем поле у переменной my_account, поделив на 100, чтобы обрубить копейки. Расходы получаем в валюте аккаунта, в нашем случае это RUB. То, ради чего мы всё это затеваем — получить данные о расходах на рекламные кампании для последующего анализа."
      ]
    },
    {
      "cell_type": "code",
      "metadata": {
        "id": "FrRwRc5Gk-BX"
      },
      "source": [
        "my_account.api_get(fields=[AdAccount.Field.amount_spent])\n",
        "print(int(my_account[AdAccount.Field.amount_spent])/100)"
      ],
      "execution_count": null,
      "outputs": []
    },
    {
      "cell_type": "markdown",
      "metadata": {
        "id": "GzQ1VbnWmBoe"
      },
      "source": [
        "Объявим переменную fields — в этом списке будут храниться поля, которые мы хотим получать: id кампании, количество кликов, затрат и просмотров. Теперь опишем две функции. Первая будет асинхронно отправлять запросы к Facebook и возвращать результаты. Вторая — формирует эти запросы и передает в первую функцию. В результате будем получать список словарей."
      ]
    },
    {
      "cell_type": "code",
      "metadata": {
        "id": "vKvQ0Y5jlf08"
      },
      "source": [
        "fields = [\n",
        "    AdsInsights.Field.campaign_id,\n",
        "    AdsInsights.Field.clicks,\n",
        "    AdsInsights.Field.spend,\n",
        "    AdsInsights.Field.impressions]\n",
        "\n",
        "count = 0\n",
        "\n",
        "def wait_for_async_job(async_job):\n",
        "    global count§\n",
        "    async_job = async_job.api_get()\n",
        "    while async_job[AdReportRun.Field.async_status] != 'Job Completed' or async_job[\n",
        "        AdReportRun.Field.async_percent_completion] < 100:\n",
        "        time.sleep(2)\n",
        "        async_job = async_job.api_get()\n",
        "    else:\n",
        "        print(\"Job \" + str(count) + \" completed\")\n",
        "        count += 1\n",
        "    return async_job.get_result(params={\"limit\": 1000})\n",
        "\n",
        "def get_insights(account, date_preset='last_3d'):\n",
        "    account = AdAccount(account[\"id\"])\n",
        "    i_async_job = account.get_insights(\n",
        "        params={\n",
        "            'level': 'ad',\n",
        "            'date_preset': date_preset,\n",
        "            'time_increment': 1},\n",
        "            fields=fields,\n",
        "            is_async=True)\n",
        "    results = [dict(item) for item in wait_for_async_job(i_async_job)]\n",
        "    return results"
      ],
      "execution_count": 25,
      "outputs": []
    },
    {
      "cell_type": "markdown",
      "metadata": {
        "id": "XMDsONPpl7TB"
      },
      "source": [
        "Следующий шаг — получение искомых данных о затратах. Будем собирать данные за всё время, поэтому заведём переменную date_preset, значение которой поставим lifetime. И для каждого аккаунта вызовем функцию get_insights(), а список, который она возвращает, положим в insights_lists.\n",
        "Создадим DataFrame и вытащим из insights_lists интересующие данные — это id кампании, количество кликов, затраты и просмотры."
      ]
    },
    {
      "cell_type": "code",
      "metadata": {
        "id": "gr17K2nmlxoC",
        "colab": {
          "base_uri": "https://localhost:8080/",
          "height": 373
        },
        "outputId": "e24f1d3b-a910-4e32-8010-2a09d1b6ee05"
      },
      "source": [
        "\n",
        "\n",
        "elem_insights = []\n",
        "insights_lists = []\n",
        "date_preset = 'last_7d'\n",
        "for elem in my_accounts:\n",
        "            elem_insights = get_insights(elem, date_preset)\n",
        "            insights_lists.append(elem_insights)\n",
        "\n",
        "insight_campaign_id_list = []\n",
        "insight_clicks_list = []\n",
        "insight_spend_list = []\n",
        "insight_impressions_list = []\n",
        "insight_date_start_list = []\n",
        "insight_date_stop_list = []\n",
        "for elem1 in insights_lists:\n",
        "    for elem2 in elem1:\n",
        "        insight_campaign_id_list.append(int(elem2['campaign_id']))\n",
        "        insight_clicks_list.append(int(elem2['clicks']))\n",
        "        insight_spend_list.append(float(elem2['spend']))\n",
        "        insight_impressions_list.append(int(elem2['impressions']))\n",
        "        insight_date_start_list.append(elem2['date_start'])\n",
        "        insight_date_stop_list.append(elem2['date_stop'])\n",
        "\n",
        "df = DataFrame()\n",
        "df['campaign_id'] = insight_campaign_id_list\n",
        "df['clicks'] = insight_clicks_list\n",
        "df['spend'] = insight_spend_list\n",
        "df['impressions'] = insight_impressions_list\n",
        "df['date_start'] = insight_date_start_list\n",
        "df['date_stop'] = insight_date_stop_list\n",
        "df.head(10)"
      ],
      "execution_count": 30,
      "outputs": [
        {
          "output_type": "stream",
          "name": "stdout",
          "text": [
            "Job 4 completed\n"
          ]
        },
        {
          "output_type": "execute_result",
          "data": {
            "text/html": [
              "<div>\n",
              "<style scoped>\n",
              "    .dataframe tbody tr th:only-of-type {\n",
              "        vertical-align: middle;\n",
              "    }\n",
              "\n",
              "    .dataframe tbody tr th {\n",
              "        vertical-align: top;\n",
              "    }\n",
              "\n",
              "    .dataframe thead th {\n",
              "        text-align: right;\n",
              "    }\n",
              "</style>\n",
              "<table border=\"1\" class=\"dataframe\">\n",
              "  <thead>\n",
              "    <tr style=\"text-align: right;\">\n",
              "      <th></th>\n",
              "      <th>campaign_id</th>\n",
              "      <th>clicks</th>\n",
              "      <th>spend</th>\n",
              "      <th>impressions</th>\n",
              "      <th>date_start</th>\n",
              "      <th>date_stop</th>\n",
              "    </tr>\n",
              "  </thead>\n",
              "  <tbody>\n",
              "    <tr>\n",
              "      <th>0</th>\n",
              "      <td>23846885675190216</td>\n",
              "      <td>20</td>\n",
              "      <td>127.19</td>\n",
              "      <td>724</td>\n",
              "      <td>2021-11-02</td>\n",
              "      <td>2021-11-02</td>\n",
              "    </tr>\n",
              "    <tr>\n",
              "      <th>1</th>\n",
              "      <td>23846885675190216</td>\n",
              "      <td>41</td>\n",
              "      <td>232.39</td>\n",
              "      <td>1364</td>\n",
              "      <td>2021-11-02</td>\n",
              "      <td>2021-11-02</td>\n",
              "    </tr>\n",
              "    <tr>\n",
              "      <th>2</th>\n",
              "      <td>23846900473100216</td>\n",
              "      <td>1</td>\n",
              "      <td>30.10</td>\n",
              "      <td>63</td>\n",
              "      <td>2021-11-02</td>\n",
              "      <td>2021-11-02</td>\n",
              "    </tr>\n",
              "    <tr>\n",
              "      <th>3</th>\n",
              "      <td>23846900473100216</td>\n",
              "      <td>10</td>\n",
              "      <td>110.25</td>\n",
              "      <td>469</td>\n",
              "      <td>2021-11-02</td>\n",
              "      <td>2021-11-02</td>\n",
              "    </tr>\n",
              "    <tr>\n",
              "      <th>4</th>\n",
              "      <td>23846900473100216</td>\n",
              "      <td>31</td>\n",
              "      <td>219.49</td>\n",
              "      <td>834</td>\n",
              "      <td>2021-11-02</td>\n",
              "      <td>2021-11-02</td>\n",
              "    </tr>\n",
              "    <tr>\n",
              "      <th>5</th>\n",
              "      <td>23846900473100216</td>\n",
              "      <td>11</td>\n",
              "      <td>120.27</td>\n",
              "      <td>477</td>\n",
              "      <td>2021-11-02</td>\n",
              "      <td>2021-11-02</td>\n",
              "    </tr>\n",
              "    <tr>\n",
              "      <th>6</th>\n",
              "      <td>23846885675190216</td>\n",
              "      <td>30</td>\n",
              "      <td>183.36</td>\n",
              "      <td>988</td>\n",
              "      <td>2021-11-02</td>\n",
              "      <td>2021-11-02</td>\n",
              "    </tr>\n",
              "    <tr>\n",
              "      <th>7</th>\n",
              "      <td>23846900473100216</td>\n",
              "      <td>12</td>\n",
              "      <td>122.35</td>\n",
              "      <td>459</td>\n",
              "      <td>2021-11-02</td>\n",
              "      <td>2021-11-02</td>\n",
              "    </tr>\n",
              "    <tr>\n",
              "      <th>8</th>\n",
              "      <td>23846885675190216</td>\n",
              "      <td>30</td>\n",
              "      <td>229.66</td>\n",
              "      <td>997</td>\n",
              "      <td>2021-11-03</td>\n",
              "      <td>2021-11-03</td>\n",
              "    </tr>\n",
              "    <tr>\n",
              "      <th>9</th>\n",
              "      <td>23846900473100216</td>\n",
              "      <td>53</td>\n",
              "      <td>294.65</td>\n",
              "      <td>1520</td>\n",
              "      <td>2021-11-03</td>\n",
              "      <td>2021-11-03</td>\n",
              "    </tr>\n",
              "  </tbody>\n",
              "</table>\n",
              "</div>"
            ],
            "text/plain": [
              "         campaign_id  clicks   spend  impressions  date_start   date_stop\n",
              "0  23846885675190216      20  127.19          724  2021-11-02  2021-11-02\n",
              "1  23846885675190216      41  232.39         1364  2021-11-02  2021-11-02\n",
              "2  23846900473100216       1   30.10           63  2021-11-02  2021-11-02\n",
              "3  23846900473100216      10  110.25          469  2021-11-02  2021-11-02\n",
              "4  23846900473100216      31  219.49          834  2021-11-02  2021-11-02\n",
              "5  23846900473100216      11  120.27          477  2021-11-02  2021-11-02\n",
              "6  23846885675190216      30  183.36          988  2021-11-02  2021-11-02\n",
              "7  23846900473100216      12  122.35          459  2021-11-02  2021-11-02\n",
              "8  23846885675190216      30  229.66          997  2021-11-03  2021-11-03\n",
              "9  23846900473100216      53  294.65         1520  2021-11-03  2021-11-03"
            ]
          },
          "metadata": {},
          "execution_count": 30
        }
      ]
    }
  ]
}
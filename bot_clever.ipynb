{
  "nbformat": 4,
  "nbformat_minor": 0,
  "metadata": {
    "colab": {
      "name": "Untitled1.ipynb",
      "provenance": [],
      "authorship_tag": "ABX9TyO3vhJ5K08FIRft34e5fAmx",
      "include_colab_link": true
    },
    "kernelspec": {
      "name": "python3",
      "display_name": "Python 3"
    },
    "language_info": {
      "name": "python"
    }
  },
  "cells": [
    {
      "cell_type": "markdown",
      "metadata": {
        "id": "view-in-github",
        "colab_type": "text"
      },
      "source": [
        "<a href=\"https://colab.research.google.com/github/egorostap/other_projects/blob/main/bot_clever.ipynb\" target=\"_parent\"><img src=\"https://colab.research.google.com/assets/colab-badge.svg\" alt=\"Open In Colab\"/></a>"
      ]
    },
    {
      "cell_type": "code",
      "metadata": {
        "id": "J2DtVCyoa8SL"
      },
      "source": [
        "import random\n",
        "import nltk"
      ],
      "execution_count": 45,
      "outputs": []
    },
    {
      "cell_type": "code",
      "metadata": {
        "id": "fuyiiRa4TM6n"
      },
      "source": [
        "bot_config = {\n",
        "    'intents': {\n",
        "        'hello': {\n",
        "            'examples': ['хай', 'приветики', 'здравствуйте', 'привет'],\n",
        "            'responses': ['добрый день', 'Здравствуйте', 'Добрый вечер!']\n",
        "        },\n",
        "        'bye': {\n",
        "            'examples': ['пока', 'досвидания', 'до встречи', 'хорошего дня'],\n",
        "            'responses': ['до связи', 'пока', 'хорошего дня']\n",
        "        }\n",
        "    },\n",
        "    'not_found': {\n",
        "        'responses': ['извините, не удалось определить интент', 'не совсем понял']\n",
        "    }\n",
        "}"
      ],
      "execution_count": 54,
      "outputs": []
    },
    {
      "cell_type": "code",
      "metadata": {
        "colab": {
          "base_uri": "https://localhost:8080/",
          "height": 35
        },
        "id": "oenDIKFBVsF8",
        "outputId": "7364bb2d-3060-4a98-c432-7f82ef505897"
      },
      "source": [
        "def clean(text):\n",
        "  clean_text = ''\n",
        "  for ch in text.lower():\n",
        "    if ch in 'абвгдеёжзийклмнопрстуфхцчшщъыьэюя ':\n",
        "      clean_text += ch\n",
        "  return clean_text\n",
        "\n",
        "def get_intent(text):\n",
        "  for intent in bot_config['intents'].keys():\n",
        "    # print(intent)\n",
        "    for example in bot_config['intents'][intent]['examples']:\n",
        "      # print(example)\n",
        "      cleaned_example = clean(example)\n",
        "      cleaned_text = clean(text)\n",
        "      if nltk.edit_distance(cleaned_example, cleaned_text) / max(len(cleaned_example), len(cleaned_text)) < 0.4:\n",
        "        # print('нашел!')\n",
        "        return intent\n",
        "  return 'not_found'\n",
        "\n",
        "def bot(text):\n",
        "  intent = get_intent(text)\n",
        "  if intent!= 'not_found':\n",
        "    return random.choice(bot_config['intents'][intent]['responses'])\n",
        "  else:\n",
        "    return random.choice(bot_config['not_found']['responses'])\n",
        "\n",
        "bot('Привет!345')"
      ],
      "execution_count": 57,
      "outputs": [
        {
          "output_type": "execute_result",
          "data": {
            "application/vnd.google.colaboratory.intrinsic+json": {
              "type": "string"
            },
            "text/plain": [
              "'Добрый вечер!'"
            ]
          },
          "metadata": {},
          "execution_count": 57
        }
      ]
    },
    {
      "cell_type": "code",
      "metadata": {
        "colab": {
          "base_uri": "https://localhost:8080/"
        },
        "id": "A1HKBxeGa6c0",
        "outputId": "07cc5d2a-a7fa-44ee-b75e-10c719ab5a34"
      },
      "source": [
        "while True:\n",
        "  input_text = input()\n",
        "  if input_text != 'exit':\n",
        "    response = bot(input_text)\n",
        "    print(response)\n",
        "  else:\n",
        "    break"
      ],
      "execution_count": null,
      "outputs": [
        {
          "output_type": "stream",
          "name": "stdout",
          "text": [
            "как\n",
            "не совсем понял\n",
            "я\n",
            "не совсем понял\n"
          ]
        }
      ]
    },
    {
      "cell_type": "code",
      "metadata": {
        "id": "cFcNNTdfVtRY"
      },
      "source": [
        ""
      ],
      "execution_count": null,
      "outputs": []
    },
    {
      "cell_type": "code",
      "metadata": {
        "id": "NFLk7iu3Vt6w"
      },
      "source": [
        ""
      ],
      "execution_count": null,
      "outputs": []
    },
    {
      "cell_type": "code",
      "metadata": {
        "id": "JFvcjMuYVugn"
      },
      "source": [
        ""
      ],
      "execution_count": null,
      "outputs": []
    },
    {
      "cell_type": "code",
      "metadata": {
        "id": "ciN5O-i_VuvH"
      },
      "source": [
        ""
      ],
      "execution_count": null,
      "outputs": []
    },
    {
      "cell_type": "code",
      "metadata": {
        "id": "MH8ZR6uaVvYn"
      },
      "source": [
        ""
      ],
      "execution_count": null,
      "outputs": []
    },
    {
      "cell_type": "code",
      "metadata": {
        "id": "1uiThUSOVvsH"
      },
      "source": [
        ""
      ],
      "execution_count": null,
      "outputs": []
    },
    {
      "cell_type": "code",
      "metadata": {
        "id": "hDOsqVUsVwW_"
      },
      "source": [
        ""
      ],
      "execution_count": null,
      "outputs": []
    },
    {
      "cell_type": "code",
      "metadata": {
        "id": "BMtjFClHVwrA"
      },
      "source": [
        ""
      ],
      "execution_count": null,
      "outputs": []
    },
    {
      "cell_type": "code",
      "metadata": {
        "id": "9esr3xRaVxD-"
      },
      "source": [
        ""
      ],
      "execution_count": null,
      "outputs": []
    }
  ]
}